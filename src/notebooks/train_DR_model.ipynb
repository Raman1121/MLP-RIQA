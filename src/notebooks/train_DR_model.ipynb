{
 "cells": [
  {
   "cell_type": "code",
   "execution_count": null,
   "metadata": {},
   "outputs": [],
   "source": [
    "import sys\n",
    "# insert at 1, 0 is the script path (or '' in REPL)\n",
    "sys.path.insert(1, '/home/raman/MLP-RIQA/src/model')\n",
    "sys.path.insert(0, '/home/raman/MLP-RIQA/src/dataset')\n",
    "\n",
    "import torch\n",
    "#from dataset.retinopathy_dataset import RetinopathyDataset\n",
    "#from model.retinopathy_model import RetinopathyClassificationModel\n",
    "\n",
    "from model import retinopathy_model\n",
    "from torch.utils.data import DataLoader"
   ]
  },
  {
   "cell_type": "code",
   "execution_count": null,
   "metadata": {},
   "outputs": [],
   "source": [
    "training_dataset = RetinopathyDataset()\n",
    "train_loader = DataLoader(training_dataset)\n",
    "\n",
    "for batch in train_loader:\n",
    "    x, y = batch\n",
    "    print(x.shape, y.shape)\n",
    "    break"
   ]
  },
  {
   "cell_type": "code",
   "execution_count": null,
   "metadata": {},
   "outputs": [],
   "source": []
  }
 ],
 "metadata": {
  "interpreter": {
   "hash": "03444636eb414309a01a2c6bf6ac8f64da93ebb17c812c3812a316112382e716"
  },
  "kernelspec": {
   "display_name": "Python 3.9.7 64-bit ('pt2': conda)",
   "language": "python",
   "name": "python3"
  },
  "language_info": {
   "codemirror_mode": {
    "name": "ipython",
    "version": 3
   },
   "file_extension": ".py",
   "mimetype": "text/x-python",
   "name": "python",
   "nbconvert_exporter": "python",
   "pygments_lexer": "ipython3",
   "version": "3.9.7"
  },
  "orig_nbformat": 4
 },
 "nbformat": 4,
 "nbformat_minor": 2
}
