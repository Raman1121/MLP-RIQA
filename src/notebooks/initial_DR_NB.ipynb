{
 "cells": [
  {
   "cell_type": "code",
   "execution_count": 1,
   "metadata": {},
   "outputs": [],
   "source": [
    "import torch\n",
    "\n",
    "import pandas as pd\n",
    "import numpy as np\n",
    "import cv2\n",
    "\n",
    "import os\n",
    "from tqdm import tqdm\n",
    "import matplotlib.pyplot as plt\n",
    "\n",
    "from torch.utils.data import Dataset, DataLoader\n",
    "from torchvision import transforms as T\n",
    "from torchvision.io import read_image\n",
    "import torchvision.models as models\n",
    "import torch.nn as nn\n",
    "\n",
    "import yaml\n"
   ]
  },
  {
   "cell_type": "code",
   "execution_count": 3,
   "metadata": {},
   "outputs": [
    {
     "data": {
      "text/plain": [
       "device(type='cuda')"
      ]
     },
     "execution_count": 3,
     "metadata": {},
     "output_type": "execute_result"
    }
   ],
   "source": [
    "device = torch.device('cuda' if torch.cuda.is_available() else 'cpu')\n",
    "device"
   ]
  },
  {
   "cell_type": "code",
   "execution_count": 2,
   "metadata": {},
   "outputs": [],
   "source": [
    "#Load the configuration file\n",
    "\n",
    "with open('../config_train_DR.yaml') as file:\n",
    "    yaml_data = yaml.safe_load(file)"
   ]
  },
  {
   "cell_type": "markdown",
   "metadata": {},
   "source": [
    "## Explore Data and Build Dataset"
   ]
  },
  {
   "cell_type": "code",
   "execution_count": 10,
   "metadata": {},
   "outputs": [
    {
     "data": {
      "text/plain": [
       "['18329_right.jpeg',\n",
       " '24944_left.jpeg',\n",
       " '41031_right.jpeg',\n",
       " '4484_right.jpeg',\n",
       " '38136_right.jpeg',\n",
       " '39671_left.jpeg',\n",
       " '6561_left.jpeg',\n",
       " '19878_left.jpeg',\n",
       " '10061_left.jpeg',\n",
       " '19056_left.jpeg']"
      ]
     },
     "execution_count": 10,
     "metadata": {},
     "output_type": "execute_result"
    }
   ],
   "source": [
    "ROOT_PATH = yaml_data['dataset']['root_path']\n",
    "os.listdir(os.path.join(ROOT_PATH, 'final_train', 'train'))[0:10]"
   ]
  },
  {
   "cell_type": "code",
   "execution_count": 11,
   "metadata": {},
   "outputs": [
    {
     "name": "stdout",
     "output_type": "stream",
     "text": [
      "35126\n"
     ]
    },
    {
     "data": {
      "text/html": [
       "<div>\n",
       "<style scoped>\n",
       "    .dataframe tbody tr th:only-of-type {\n",
       "        vertical-align: middle;\n",
       "    }\n",
       "\n",
       "    .dataframe tbody tr th {\n",
       "        vertical-align: top;\n",
       "    }\n",
       "\n",
       "    .dataframe thead th {\n",
       "        text-align: right;\n",
       "    }\n",
       "</style>\n",
       "<table border=\"1\" class=\"dataframe\">\n",
       "  <thead>\n",
       "    <tr style=\"text-align: right;\">\n",
       "      <th></th>\n",
       "      <th>image</th>\n",
       "      <th>level</th>\n",
       "      <th>quality</th>\n",
       "    </tr>\n",
       "  </thead>\n",
       "  <tbody>\n",
       "    <tr>\n",
       "      <th>0</th>\n",
       "      <td>/home/raman/MLP-RIQA/data/diabetic-retinopathy...</td>\n",
       "      <td>0</td>\n",
       "      <td>Usable</td>\n",
       "    </tr>\n",
       "    <tr>\n",
       "      <th>1</th>\n",
       "      <td>/home/raman/MLP-RIQA/data/diabetic-retinopathy...</td>\n",
       "      <td>0</td>\n",
       "      <td>Reject</td>\n",
       "    </tr>\n",
       "    <tr>\n",
       "      <th>2</th>\n",
       "      <td>/home/raman/MLP-RIQA/data/diabetic-retinopathy...</td>\n",
       "      <td>0</td>\n",
       "      <td>Good</td>\n",
       "    </tr>\n",
       "    <tr>\n",
       "      <th>3</th>\n",
       "      <td>/home/raman/MLP-RIQA/data/diabetic-retinopathy...</td>\n",
       "      <td>0</td>\n",
       "      <td>Good</td>\n",
       "    </tr>\n",
       "    <tr>\n",
       "      <th>4</th>\n",
       "      <td>/home/raman/MLP-RIQA/data/diabetic-retinopathy...</td>\n",
       "      <td>1</td>\n",
       "      <td>Good</td>\n",
       "    </tr>\n",
       "  </tbody>\n",
       "</table>\n",
       "</div>"
      ],
      "text/plain": [
       "                                               image  level quality\n",
       "0  /home/raman/MLP-RIQA/data/diabetic-retinopathy...      0  Usable\n",
       "1  /home/raman/MLP-RIQA/data/diabetic-retinopathy...      0  Reject\n",
       "2  /home/raman/MLP-RIQA/data/diabetic-retinopathy...      0    Good\n",
       "3  /home/raman/MLP-RIQA/data/diabetic-retinopathy...      0    Good\n",
       "4  /home/raman/MLP-RIQA/data/diabetic-retinopathy...      1    Good"
      ]
     },
     "execution_count": 11,
     "metadata": {},
     "output_type": "execute_result"
    }
   ],
   "source": [
    "# train_labels_df = pd.read_csv(os.path.join(ROOT_PATH, 'trainLabels.csv'))\n",
    "# train_labels_df['image'] = train_labels_df['image'].apply(lambda x: str(ROOT_PATH+'final_train/train/'+x+'.jpeg'))\n",
    "# train_labels_df.head()\n",
    "\n",
    "train_labels_df = pd.read_csv(yaml_data['train']['train_df_path'])\n",
    "print(len(train_labels_df))\n",
    "train_labels_df.head()"
   ]
  },
  {
   "cell_type": "code",
   "execution_count": 5,
   "metadata": {},
   "outputs": [
    {
     "data": {
      "text/plain": [
       "<matplotlib.image.AxesImage at 0x7ff9c1ca0e80>"
      ]
     },
     "execution_count": 5,
     "metadata": {},
     "output_type": "execute_result"
    },
    {
     "data": {
      "image/png": "[encoded data removed]",
      "text/plain": [
       "<Figure size 432x288 with 1 Axes>"
      ]
     },
     "metadata": {
      "needs_background": "light"
     },
     "output_type": "display_data"
    }
   ],
   "source": [
    "img = cv2.imread(train_labels_df['image'][0])\n",
    "plt.imshow(img, )"
   ]
  },
  {
   "cell_type": "code",
   "execution_count": 12,
   "metadata": {},
   "outputs": [
    {
     "name": "stdout",
     "output_type": "stream",
     "text": [
      "Index:  0\n",
      "Image:  /home/raman/MLP-RIQA/data/diabetic-retinopathy-detection/final_train/train/10_left.jpeg\n",
      "Label:  0\n",
      "torch.Size([3, 224, 224])\n"
     ]
    }
   ],
   "source": [
    "class RetinopathyDataset(Dataset):\n",
    "    def __init__(self, train_df, transforms=None, threshold=None, categorical_partitition=True, cat_labels_to_include=['Good', 'Usable', 'Reject']):\n",
    "        self.train_df = train_df\n",
    "        self.transforms = transforms\n",
    "        self.threshold = threshold\n",
    "        self.categorical_partitition = categorical_partitition\n",
    "        self.cat_labels = cat_labels_to_include\n",
    "\n",
    "        if(self.categorical_partitition == True):\n",
    "            #This means we have categorical labels for image quality ['Good', 'Usable', 'Bad'] instead of continuous labels\n",
    "            self.threshold = None   #Continuous labels threshold does not matter in this case\n",
    "\n",
    "            if(self.cat_labels == None):\n",
    "                raise AssertionError(\"Categorical labels should be provided when 'categorical partition' is set to True\")\n",
    "            else:\n",
    "                self.train_df = self.train_df[self.train_df['quality'].isin(self.cat_labels).reset_index(drop=True)]\n",
    "\n",
    "        else:\n",
    "            if(self.threshold == None):\n",
    "                raise AssertionError(\"Threshold should be provided when 'categorical_partitition' is false.\")\n",
    "                \n",
    "            self.train_df = self.train_df[self.train_df['score']>=self.threshold].reset_index(drop=True)\n",
    "\n",
    "    def __len__(self):\n",
    "        return len(self.train_df)\n",
    "\n",
    "    def __getitem__(self, idx):\n",
    "            \n",
    "        print(\"Index: \", idx)\n",
    "        print(\"Image: \", self.train_df['image'][idx])\n",
    "        print(\"Label: \", self.train_df['level'][idx])\n",
    "        \n",
    "        image = read_image(self.train_df['image'][idx])\n",
    "        label = self.train_df['level'][idx]\n",
    "\n",
    "        if(self.transforms):\n",
    "            image = self.transforms(image)\n",
    "\n",
    "        return image, label\n",
    "\n",
    "\n",
    "\n",
    "train_transform = T.Compose([\n",
    "    T.ToPILImage(),\n",
    "    T.Resize((224,224)),\n",
    "    T.ToTensor(),\n",
    "#     transforms.Normalize(mean=[0.485, 0.456, 0.406], std=[0.229, 0.224, 0.225]),\n",
    "])\n",
    "\n",
    "dummy_dataset = RetinopathyDataset(train_labels_df, train_transform)\n",
    "img, label = next(iter(dummy_dataset))\n",
    "\n",
    "print(img.size())\n"
   ]
  },
  {
   "cell_type": "code",
   "execution_count": null,
   "metadata": {},
   "outputs": [],
   "source": [
    "dataset = RetinopathyDataset(train_labels_df,train_transform)\n",
    "                    \n",
    "loader = DataLoader(dataset, batch_size=64)\n",
    "for batch in loader:\n",
    "    x, y = batch\n",
    "    print(x.shape, y.shape)\n",
    "    break"
   ]
  },
  {
   "cell_type": "markdown",
   "metadata": {},
   "source": [
    "## Build Model"
   ]
  },
  {
   "cell_type": "markdown",
   "metadata": {},
   "source": [
    "We would need to train a model each time with the new dataset"
   ]
  },
  {
   "cell_type": "code",
   "execution_count": null,
   "metadata": {},
   "outputs": [],
   "source": [
    "PRETRAINED = True\n",
    "LEARNING_RATE = 1e-3\n",
    "BATCH_SIZE = 32\n",
    "NUM_EPOCHS = 2\n",
    "NUM_CLASSES = len(train_labels_df['level'].unique())"
   ]
  },
  {
   "cell_type": "code",
   "execution_count": null,
   "metadata": {},
   "outputs": [],
   "source": [
    "model = models.resnet34(pretrained=PRETRAINED).to(device)\n",
    "num_filters = model.fc.in_features\n",
    "\n",
    "model.fc = nn.Linear(num_filters, NUM_CLASSES)\n",
    "\n",
    "model.to(device)"
   ]
  },
  {
   "cell_type": "code",
   "execution_count": null,
   "metadata": {},
   "outputs": [],
   "source": [
    "optimizer = torch.optim.Adam(model.parameters(), lr = LEARNING_RATE)\n",
    "loss_criterion = torch.nn.CrossEntropyLoss()\n",
    "train_dataloader = DataLoader(dataset=RetinopathyDataset(train_labels_df, transforms=train_transform), \n",
    "                              batch_size=BATCH_SIZE, shuffle=True)\n",
    "\n",
    "for epoch in range(NUM_EPOCHS):\n",
    "    for data, target in tqdm(train_dataloader):\n",
    "        data = data.to(device=device)\n",
    "        target = target.to(device=device)\n",
    "        \n",
    "        score = model(data)\n",
    "        optimizer.zero_grad()\n",
    "        \n",
    "        loss = loss_criterion(score, target)\n",
    "        loss.backward()\n",
    "        \n",
    "        optimizer.step()\n",
    "    \n",
    "    print(f\"for epoch {epoch}, loss : {loss}\")\n"
   ]
  },
  {
   "cell_type": "markdown",
   "metadata": {},
   "source": [
    "## RIQA Labels"
   ]
  },
  {
   "cell_type": "code",
   "execution_count": 14,
   "metadata": {},
   "outputs": [
    {
     "data": {
      "text/html": [
       "<div>\n",
       "<style scoped>\n",
       "    .dataframe tbody tr th:only-of-type {\n",
       "        vertical-align: middle;\n",
       "    }\n",
       "\n",
       "    .dataframe tbody tr th {\n",
       "        vertical-align: top;\n",
       "    }\n",
       "\n",
       "    .dataframe thead th {\n",
       "        text-align: right;\n",
       "    }\n",
       "</style>\n",
       "<table border=\"1\" class=\"dataframe\">\n",
       "  <thead>\n",
       "    <tr style=\"text-align: right;\">\n",
       "      <th></th>\n",
       "      <th>Unnamed: 0</th>\n",
       "      <th>name</th>\n",
       "      <th>quality</th>\n",
       "    </tr>\n",
       "  </thead>\n",
       "  <tbody>\n",
       "    <tr>\n",
       "      <th>0</th>\n",
       "      <td>0</td>\n",
       "      <td>41059_left.jpeg</td>\n",
       "      <td>Good</td>\n",
       "    </tr>\n",
       "    <tr>\n",
       "      <th>1</th>\n",
       "      <td>1</td>\n",
       "      <td>23657_right.jpeg</td>\n",
       "      <td>Usable</td>\n",
       "    </tr>\n",
       "    <tr>\n",
       "      <th>2</th>\n",
       "      <td>2</td>\n",
       "      <td>37478_right.jpeg</td>\n",
       "      <td>Good</td>\n",
       "    </tr>\n",
       "    <tr>\n",
       "      <th>3</th>\n",
       "      <td>3</td>\n",
       "      <td>25656_right.jpeg</td>\n",
       "      <td>Good</td>\n",
       "    </tr>\n",
       "    <tr>\n",
       "      <th>4</th>\n",
       "      <td>4</td>\n",
       "      <td>4764_right.jpeg</td>\n",
       "      <td>Usable</td>\n",
       "    </tr>\n",
       "  </tbody>\n",
       "</table>\n",
       "</div>"
      ],
      "text/plain": [
       "   Unnamed: 0              name quality\n",
       "0           0   41059_left.jpeg    Good\n",
       "1           1  23657_right.jpeg  Usable\n",
       "2           2  37478_right.jpeg    Good\n",
       "3           3  25656_right.jpeg    Good\n",
       "4           4   4764_right.jpeg  Usable"
      ]
     },
     "execution_count": 14,
     "metadata": {},
     "output_type": "execute_result"
    }
   ],
   "source": [
    "train_labels_df2= pd.read_csv(yaml_data['dataset']['RIQA_train_labels'])\n",
    "test_labels_df2 = pd.read_csv(yaml_data['dataset']['RIQA_test_labels'])\n",
    "train_labels_df2.head()"
   ]
  },
  {
   "cell_type": "code",
   "execution_count": 15,
   "metadata": {},
   "outputs": [
    {
     "data": {
      "text/plain": [
       "Good      16494\n",
       "Usable    12710\n",
       "Reject     5922\n",
       "Name: quality, dtype: int64"
      ]
     },
     "execution_count": 15,
     "metadata": {},
     "output_type": "execute_result"
    }
   ],
   "source": [
    "train_labels_df2.quality.value_counts()"
   ]
  },
  {
   "cell_type": "code",
   "execution_count": 16,
   "metadata": {},
   "outputs": [
    {
     "data": {
      "text/plain": [
       "Good      25174\n",
       "Usable    19243\n",
       "Reject     9159\n",
       "Name: quality, dtype: int64"
      ]
     },
     "execution_count": 16,
     "metadata": {},
     "output_type": "execute_result"
    }
   ],
   "source": [
    "test_labels_df2.quality.value_counts()"
   ]
  },
  {
   "cell_type": "markdown",
   "metadata": {},
   "source": [
    "## Creating final dataset"
   ]
  },
  {
   "cell_type": "code",
   "execution_count": 17,
   "metadata": {},
   "outputs": [],
   "source": [
    "df_diabetic_labels = pd.read_csv(os.path.join(ROOT_PATH, 'trainLabels.csv'))\n",
    "df_diabetic_labels_test = pd.read_csv(os.path.join(ROOT_PATH, 'testLabels.csv'))\n",
    "\n",
    "df_riqa_labels = pd.read_csv(yaml_data['dataset']['RIQA_train_labels'])\n",
    "df_riqa_labels_test = pd.read_csv(yaml_data['dataset']['RIQA_test_labels'])\n",
    "\n",
    "df_riqa_labels.rename({'name':'image'}, inplace=True, axis=1)\n",
    "df_riqa_labels.drop(['Unnamed: 0'], axis=1, inplace=True)\n",
    "df_riqa_labels_test.rename({'name':'image'}, inplace=True, axis=1)\n",
    "df_riqa_labels_test.drop(['Unnamed: 0'], axis=1, inplace=True)\n",
    "\n",
    "df_diabetic_labels['image'] = df_diabetic_labels['image'].apply(lambda x: x+'.jpeg')\n",
    "df_diabetic_labels_test['image'] = df_diabetic_labels_test['image'].apply(lambda x: x+'.jpeg')"
   ]
  },
  {
   "cell_type": "code",
   "execution_count": 18,
   "metadata": {},
   "outputs": [
    {
     "data": {
      "text/plain": [
       "(Index(['image', 'level'], dtype='object'),\n",
       " Index(['image', 'quality'], dtype='object'),\n",
       " Index(['image', 'quality'], dtype='object'))"
      ]
     },
     "execution_count": 18,
     "metadata": {},
     "output_type": "execute_result"
    }
   ],
   "source": [
    "#Both dataframes have the same columns now.\n",
    "\n",
    "df_diabetic_labels.columns, df_riqa_labels.columns, df_riqa_labels_test.columns"
   ]
  },
  {
   "cell_type": "code",
   "execution_count": 13,
   "metadata": {},
   "outputs": [
    {
     "data": {
      "text/plain": [
       "(0     10_left.jpeg\n",
       " 1    10_right.jpeg\n",
       " 2     13_left.jpeg\n",
       " 3    13_right.jpeg\n",
       " 4     15_left.jpeg\n",
       " Name: image, dtype: object,\n",
       " 0     41059_left.jpeg\n",
       " 1    23657_right.jpeg\n",
       " 2    37478_right.jpeg\n",
       " 3    25656_right.jpeg\n",
       " 4     4764_right.jpeg\n",
       " Name: image, dtype: object,\n",
       " 0     37398_left.jpeg\n",
       " 1     23632_left.jpeg\n",
       " 2    22845_right.jpeg\n",
       " 3       809_left.jpeg\n",
       " 4     40461_left.jpeg\n",
       " Name: image, dtype: object)"
      ]
     },
     "execution_count": 13,
     "metadata": {},
     "output_type": "execute_result"
    }
   ],
   "source": [
    "df_diabetic_labels['image'][0:5], df_riqa_labels['image'][0:5], df_riqa_labels_test['image'][0:5]"
   ]
  },
  {
   "cell_type": "code",
   "execution_count": 19,
   "metadata": {},
   "outputs": [
    {
     "data": {
      "text/html": [
       "<div>\n",
       "<style scoped>\n",
       "    .dataframe tbody tr th:only-of-type {\n",
       "        vertical-align: middle;\n",
       "    }\n",
       "\n",
       "    .dataframe tbody tr th {\n",
       "        vertical-align: top;\n",
       "    }\n",
       "\n",
       "    .dataframe thead th {\n",
       "        text-align: right;\n",
       "    }\n",
       "</style>\n",
       "<table border=\"1\" class=\"dataframe\">\n",
       "  <thead>\n",
       "    <tr style=\"text-align: right;\">\n",
       "      <th></th>\n",
       "      <th>image</th>\n",
       "      <th>level</th>\n",
       "    </tr>\n",
       "  </thead>\n",
       "  <tbody>\n",
       "    <tr>\n",
       "      <th>0</th>\n",
       "      <td>1_left.jpeg</td>\n",
       "      <td>0</td>\n",
       "    </tr>\n",
       "    <tr>\n",
       "      <th>1</th>\n",
       "      <td>1_right.jpeg</td>\n",
       "      <td>0</td>\n",
       "    </tr>\n",
       "    <tr>\n",
       "      <th>2</th>\n",
       "      <td>2_left.jpeg</td>\n",
       "      <td>0</td>\n",
       "    </tr>\n",
       "    <tr>\n",
       "      <th>3</th>\n",
       "      <td>2_right.jpeg</td>\n",
       "      <td>0</td>\n",
       "    </tr>\n",
       "    <tr>\n",
       "      <th>4</th>\n",
       "      <td>3_left.jpeg</td>\n",
       "      <td>2</td>\n",
       "    </tr>\n",
       "  </tbody>\n",
       "</table>\n",
       "</div>"
      ],
      "text/plain": [
       "          image  level\n",
       "0   1_left.jpeg      0\n",
       "1  1_right.jpeg      0\n",
       "2   2_left.jpeg      0\n",
       "3  2_right.jpeg      0\n",
       "4   3_left.jpeg      2"
      ]
     },
     "execution_count": 19,
     "metadata": {},
     "output_type": "execute_result"
    }
   ],
   "source": [
    "df_diabetic_labels_test.head()"
   ]
  },
  {
   "cell_type": "code",
   "execution_count": 20,
   "metadata": {},
   "outputs": [
    {
     "data": {
      "text/html": [
       "<div>\n",
       "<style scoped>\n",
       "    .dataframe tbody tr th:only-of-type {\n",
       "        vertical-align: middle;\n",
       "    }\n",
       "\n",
       "    .dataframe tbody tr th {\n",
       "        vertical-align: top;\n",
       "    }\n",
       "\n",
       "    .dataframe thead th {\n",
       "        text-align: right;\n",
       "    }\n",
       "</style>\n",
       "<table border=\"1\" class=\"dataframe\">\n",
       "  <thead>\n",
       "    <tr style=\"text-align: right;\">\n",
       "      <th></th>\n",
       "      <th>image</th>\n",
       "      <th>level</th>\n",
       "      <th>quality</th>\n",
       "    </tr>\n",
       "  </thead>\n",
       "  <tbody>\n",
       "    <tr>\n",
       "      <th>0</th>\n",
       "      <td>/home/raman/MLP-RIQA/data/diabetic-retinopathy...</td>\n",
       "      <td>0</td>\n",
       "      <td>Usable</td>\n",
       "    </tr>\n",
       "    <tr>\n",
       "      <th>1</th>\n",
       "      <td>/home/raman/MLP-RIQA/data/diabetic-retinopathy...</td>\n",
       "      <td>0</td>\n",
       "      <td>Reject</td>\n",
       "    </tr>\n",
       "    <tr>\n",
       "      <th>2</th>\n",
       "      <td>/home/raman/MLP-RIQA/data/diabetic-retinopathy...</td>\n",
       "      <td>0</td>\n",
       "      <td>Good</td>\n",
       "    </tr>\n",
       "    <tr>\n",
       "      <th>3</th>\n",
       "      <td>/home/raman/MLP-RIQA/data/diabetic-retinopathy...</td>\n",
       "      <td>0</td>\n",
       "      <td>Good</td>\n",
       "    </tr>\n",
       "    <tr>\n",
       "      <th>4</th>\n",
       "      <td>/home/raman/MLP-RIQA/data/diabetic-retinopathy...</td>\n",
       "      <td>1</td>\n",
       "      <td>Good</td>\n",
       "    </tr>\n",
       "  </tbody>\n",
       "</table>\n",
       "</div>"
      ],
      "text/plain": [
       "                                               image  level quality\n",
       "0  /home/raman/MLP-RIQA/data/diabetic-retinopathy...      0  Usable\n",
       "1  /home/raman/MLP-RIQA/data/diabetic-retinopathy...      0  Reject\n",
       "2  /home/raman/MLP-RIQA/data/diabetic-retinopathy...      0    Good\n",
       "3  /home/raman/MLP-RIQA/data/diabetic-retinopathy...      0    Good\n",
       "4  /home/raman/MLP-RIQA/data/diabetic-retinopathy...      1    Good"
      ]
     },
     "execution_count": 20,
     "metadata": {},
     "output_type": "execute_result"
    }
   ],
   "source": [
    "#Merging the training dataframes\n",
    "final_df = pd.merge(left=df_diabetic_labels, right=df_riqa_labels, how='inner', on='image')\n",
    "final_df['image'] = final_df['image'].apply(lambda x: str(ROOT_PATH+'final_train/train/'+x))\n",
    "final_df.head()"
   ]
  },
  {
   "cell_type": "code",
   "execution_count": null,
   "metadata": {},
   "outputs": [],
   "source": [
    "#final_df.to_csv('/home/raman/MLP-RIQA/Train_set_RIQA_DR_Labels.csv', index=False)"
   ]
  },
  {
   "cell_type": "code",
   "execution_count": 24,
   "metadata": {},
   "outputs": [
    {
     "data": {
      "text/html": [
       "<div>\n",
       "<style scoped>\n",
       "    .dataframe tbody tr th:only-of-type {\n",
       "        vertical-align: middle;\n",
       "    }\n",
       "\n",
       "    .dataframe tbody tr th {\n",
       "        vertical-align: top;\n",
       "    }\n",
       "\n",
       "    .dataframe thead th {\n",
       "        text-align: right;\n",
       "    }\n",
       "</style>\n",
       "<table border=\"1\" class=\"dataframe\">\n",
       "  <thead>\n",
       "    <tr style=\"text-align: right;\">\n",
       "      <th></th>\n",
       "      <th>image</th>\n",
       "      <th>level</th>\n",
       "      <th>quality</th>\n",
       "    </tr>\n",
       "  </thead>\n",
       "  <tbody>\n",
       "    <tr>\n",
       "      <th>0</th>\n",
       "      <td>/home/raman/MLP-RIQA/data/diabetic-retinopathy...</td>\n",
       "      <td>0</td>\n",
       "      <td>Reject</td>\n",
       "    </tr>\n",
       "    <tr>\n",
       "      <th>1</th>\n",
       "      <td>/home/raman/MLP-RIQA/data/diabetic-retinopathy...</td>\n",
       "      <td>0</td>\n",
       "      <td>Usable</td>\n",
       "    </tr>\n",
       "    <tr>\n",
       "      <th>2</th>\n",
       "      <td>/home/raman/MLP-RIQA/data/diabetic-retinopathy...</td>\n",
       "      <td>0</td>\n",
       "      <td>Usable</td>\n",
       "    </tr>\n",
       "    <tr>\n",
       "      <th>3</th>\n",
       "      <td>/home/raman/MLP-RIQA/data/diabetic-retinopathy...</td>\n",
       "      <td>0</td>\n",
       "      <td>Usable</td>\n",
       "    </tr>\n",
       "    <tr>\n",
       "      <th>4</th>\n",
       "      <td>/home/raman/MLP-RIQA/data/diabetic-retinopathy...</td>\n",
       "      <td>2</td>\n",
       "      <td>Good</td>\n",
       "    </tr>\n",
       "  </tbody>\n",
       "</table>\n",
       "</div>"
      ],
      "text/plain": [
       "                                               image  level quality\n",
       "0  /home/raman/MLP-RIQA/data/diabetic-retinopathy...      0  Reject\n",
       "1  /home/raman/MLP-RIQA/data/diabetic-retinopathy...      0  Usable\n",
       "2  /home/raman/MLP-RIQA/data/diabetic-retinopathy...      0  Usable\n",
       "3  /home/raman/MLP-RIQA/data/diabetic-retinopathy...      0  Usable\n",
       "4  /home/raman/MLP-RIQA/data/diabetic-retinopathy...      2    Good"
      ]
     },
     "execution_count": 24,
     "metadata": {},
     "output_type": "execute_result"
    }
   ],
   "source": [
    "#Merging the test dataframes\n",
    "\n",
    "final_test_df = pd.merge(left=df_diabetic_labels_test, right=df_riqa_labels_test, how='inner', on='image')\n",
    "final_test_df['image'] = final_test_df['image'].apply(lambda x: str(ROOT_PATH+'final_test/test/'+x))\n",
    "final_test_df.head()"
   ]
  },
  {
   "cell_type": "code",
   "execution_count": 25,
   "metadata": {},
   "outputs": [],
   "source": [
    "#final_test_df.to_csv('/home/raman/MLP-RIQA/Test_set_RIQA_DR_Labels.csv', index=False)"
   ]
  }
 ],
 "metadata": {
  "interpreter": {
   "hash": "03444636eb414309a01a2c6bf6ac8f64da93ebb17c812c3812a316112382e716"
  },
  "kernelspec": {
   "display_name": "Python 3.9.7 64-bit ('pt2': conda)",
   "language": "python",
   "name": "python3"
  },
  "language_info": {
   "codemirror_mode": {
    "name": "ipython",
    "version": 3
   },
   "file_extension": ".py",
   "mimetype": "text/x-python",
   "name": "python",
   "nbconvert_exporter": "python",
   "pygments_lexer": "ipython3",
   "version": "3.9.7"
  },
  "orig_nbformat": 4
 },
 "nbformat": 4,
 "nbformat_minor": 2
}
